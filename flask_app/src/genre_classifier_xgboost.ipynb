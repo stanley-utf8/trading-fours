{
  "cells": [
    {
      "cell_type": "markdown",
      "metadata": {
        "colab_type": "text",
        "id": "view-in-github"
      },
      "source": [
        "<a href=\"https://colab.research.google.com/github/Stanley-Wang910/spotify-rec-engine/blob/fixes-branch/genre_classifier_xgboost.ipynb\" target=\"_parent\"><img src=\"https://colab.research.google.com/assets/colab-badge.svg\" alt=\"Open In Colab\"/></a>"
      ]
    },
    {
      "cell_type": "code",
      "execution_count": null,
      "metadata": {
        "id": "AGfrHxWttPYi"
      },
      "outputs": [],
      "source": [
        "from google.colab import files\n",
        "\n",
        "uploaded = files.upload()"
      ]
    },
    {
      "cell_type": "markdown",
      "metadata": {
        "id": "-mALZkXBHwmx"
      },
      "source": [
        "### Libraries & Imports"
      ]
    },
    {
      "cell_type": "code",
      "execution_count": null,
      "metadata": {
        "id": "F01bu6qcGbeE"
      },
      "outputs": [],
      "source": [
        "import pandas as pd\n",
        "import random\n",
        "import numpy as np\n",
        "from sklearn.preprocessing import LabelEncoder\n",
        "import pandas as pd\n",
        "import xgboost as xgb\n",
        "from sklearn.model_selection import train_test_split\n",
        "from sklearn.metrics import accuracy_score\n",
        "from sklearn.metrics import roc_curve, auc\n",
        "from sklearn.preprocessing import label_binarize\n",
        "import numpy as np\n",
        "from scipy import stats\n",
        "from sklearn.discriminant_analysis import LinearDiscriminantAnalysis as LDA\n",
        "from sklearn.preprocessing import LabelEncoder, StandardScaler\n",
        "import plotly.express as px\n",
        "from sklearn.model_selection import GridSearchCV, StratifiedKFold\n",
        "from sklearn.decomposition import PCA\n",
        "from sklearn.mixture import GaussianMixture\n",
        "import seaborn as sns\n",
        "import matplotlib.pyplot as plt"
      ]
    },
    {
      "cell_type": "markdown",
      "metadata": {
        "id": "EHJMySRMHt6o"
      },
      "source": [
        "### Read Data"
      ]
    },
    {
      "cell_type": "code",
      "execution_count": null,
      "metadata": {
        "collapsed": true,
        "id": "H8NVpchGHau-"
      },
      "outputs": [],
      "source": [
        "# Will need to import rec_dataset\n",
        "\n",
        "random.seed(12975910)\n",
        "df = pd.read_csv('rec_dataset.csv')\n",
        "df.dropna(how='all', inplace=True)\n",
        "df.drop_duplicates(subset='track_id', inplace=True)\n",
        "df = df.drop('time_signature', axis=1)\n",
        "print(df.isnull().sum())\n",
        "df = df.groupby('track_genre').apply(lambda x: x.sample(min(len(x), 5000))).reset_index(drop=True)\n",
        "print(df['track_genre'].value_counts())\n",
        "df.head()"
      ]
    },
    {
      "cell_type": "markdown",
      "metadata": {
        "id": "Ld698zKgHqBY"
      },
      "source": [
        "### Visualize Data"
      ]
    },
    {
      "cell_type": "code",
      "execution_count": null,
      "metadata": {
        "collapsed": true,
        "id": "sYWldZKNIepk"
      },
      "outputs": [],
      "source": [
        "na_rows = df[df.isna().any(axis=1)]\n",
        "df['duration_ms'] = df['duration_ms']\n",
        "df.replace(to_replace=['?', -1], value=np.nan, inplace=True)\n",
        "\n",
        "\n",
        "percent_missing = df.isna().mean() * 100\n",
        "for column, percentage in percent_missing.items():\n",
        "    print(f\"{column}: {percentage:.4f}% missing values\")\n",
        "na_rows"
      ]
    },
    {
      "cell_type": "code",
      "execution_count": null,
      "metadata": {
        "id": "6z73hWF6J1bu"
      },
      "outputs": [],
      "source": [
        "unique_values = df['track_genre'].unique()\n",
        "print(f\"Unique values in column track_genre:\", unique_values)"
      ]
    },
    {
      "cell_type": "markdown",
      "metadata": {
        "id": "WFVCMMlELPca"
      },
      "source": [
        "### Preprocess the Data\n"
      ]
    },
    {
      "cell_type": "code",
      "execution_count": null,
      "metadata": {
        "id": "2BOQDb0OLSa-"
      },
      "outputs": [],
      "source": [
        "df['tempo'] = pd.to_numeric(df['tempo'], errors='coerce')\n",
        "df['duration_ms'] = pd.to_numeric(df['duration_ms'], errors='coerce')\n",
        "df.dropna(subset=['tempo', 'duration_ms'], inplace=True)\n",
        "\n",
        "df = df.drop(['artists', 'track_name', 'track_id'], axis=1)\n",
        "\n",
        "\n",
        "label_encoder = LabelEncoder()\n",
        "df['track_genre']  = label_encoder.fit_transform(df['track_genre'])\n",
        "df = pd.get_dummies(df, columns=['key'], dtype=int)\n",
        "\n",
        "\n",
        "\n",
        "df.head()"
      ]
    },
    {
      "cell_type": "code",
      "execution_count": null,
      "metadata": {
        "id": "byrjaF5LObGd"
      },
      "outputs": [],
      "source": [
        "genres = df['track_genre'].unique()\n",
        "train_frames = []\n",
        "test_frames = []\n",
        "\n",
        "for genre in genres:\n",
        "  genre_data = df[df['track_genre'] == genre]\n",
        "  # a test size of 500 per each genre instance, ensuring a total balanced test set\n",
        "  genre_train, genre_test = train_test_split(genre_data, test_size=500, shuffle=True)\n",
        "  train_frames.append(genre_train)\n",
        "  test_frames.append(genre_test)\n",
        "\n",
        "train_df = pd.concat(train_frames)\n",
        "test_df = pd.concat(test_frames)\n",
        "\n",
        "print(test_df['track_genre'].value_counts())"
      ]
    },
    {
      "cell_type": "markdown",
      "metadata": {
        "id": "6xK7kkRwWTu_"
      },
      "source": [
        "### Dimensionality Reduction"
      ]
    },
    {
      "cell_type": "code",
      "execution_count": null,
      "metadata": {
        "collapsed": true,
        "id": "iGI8vMSxWd0M"
      },
      "outputs": [],
      "source": [
        "# To see which linear combination of features is most responsible for determining the variance of class items (genres)\n",
        "# PCA didn't net good results, could potentially try re-fitting model using LDA reducd featuresets\n",
        "\n",
        "columns_to_drop = [col for col in train_df.columns if 'key' in col or col == 'mode']\n",
        "reduct_df = train_df.drop(columns=columns_to_drop)\n",
        "X = reduct_df.drop('track_genre', axis=1)\n",
        "y_encoded = reduct_df['track_genre']\n",
        "\n",
        "scaler = StandardScaler()\n",
        "X_scaled = scaler.fit_transform(X)\n",
        "\n",
        "pca = PCA(n_components=3)\n",
        "\n",
        "X_pca = pca.fit_transform(X_scaled)\n",
        "\n",
        "pca_explained_variance = pca.explained_variance_ratio_\n",
        "print(pca_explained_variance)\n",
        "\n",
        "df_pca_result = pd.DataFrame(X_pca, columns=[f'PCA{i+1}' for i in range(X_pca.shape[1])])\n",
        "df_pca_result['Track Genre'] = label_encoder.inverse_transform(y_encoded)\n",
        "\n",
        "print(\"Inverse transformed labels: \", df_pca_result['Track Genre'].unique())\n",
        "\n",
        "fig = px.scatter_3d(df_pca_result, x='PCA1', y='PCA2', z='PCA3',\n",
        "                    color='Track Genre',\n",
        "                    title=\"3D PCA Projection of Music Tracks\",\n",
        "                    opacity=1.0)\n",
        "\n",
        "fig.update_traces(marker=dict(size=1))\n",
        "\n",
        "fig.show()\n",
        "\n",
        "# lda = LDA(n_components=3)\n",
        "\n",
        "# X_lda = lda.fit_transform(X_scaled, y_encoded)\n",
        "\n",
        "# lda_explained_variance = lda.explained_variance_ratio_\n",
        "# print(lda_explained_variance)\n",
        "\n",
        "# reduct_df_result = pd.DataFrame(X_lda, columns=[f'LDA{i+1}' for i in range(X_lda.shape[1])])\n",
        "# reduct_df_result['Track Genre'] = label_encoder_reduct.inverse_transform(y_encoded)\n",
        "\n",
        "# fig = px.scatter_3d(reduct_df_result, x='LDA1', y='LDA2', z='LDA3',\n",
        "#                     color='Track Genre',\n",
        "#                     title=\"3D LDA Projection of Music Tracks\",\n",
        "#                     opacity=1.0)\n",
        "\n",
        "# fig.update_traces(marker=dict(size=1))\n",
        "\n",
        "# fig.show()\n",
        "\n"
      ]
    },
    {
      "cell_type": "markdown",
      "metadata": {
        "id": "7mYm9DRI4ZBu"
      },
      "source": [
        "### Fit Model\n"
      ]
    },
    {
      "cell_type": "code",
      "execution_count": null,
      "metadata": {
        "collapsed": true,
        "id": "_v7LASJ84bbn"
      },
      "outputs": [],
      "source": [
        "### Grid Search CV\n",
        "\n",
        "X_train = train_df.drop('track_genre', axis=1)\n",
        "y_train = train_df['track_genre']\n",
        "\n",
        "X_test = test_df.drop('track_genre', axis=1)\n",
        "y_test = test_df['track_genre']\n",
        "\n",
        "\n",
        "\n",
        "# Define the parameter grid\n",
        "params = {\n",
        "    'max_depth': [2, 3, 4, 5, 7, 12],\n",
        "    'eta': [0.1, 0.2, 0.3, 0.4, 0.5],\n",
        "    'objective': ['multi:softmax'],\n",
        "    'num_class': [len(y_train.unique())]\n",
        "}\n",
        "\n",
        "# Initialize the XGBClassifier with the checkpoint callback\n",
        "base_model = xgb.XGBClassifier()\n",
        "\n",
        "# Set up StratifiedKFold\n",
        "kf = StratifiedKFold(n_splits=5, shuffle=True, random_state=42)\n",
        "\n",
        "# Initialize GridSearchCV with the checkpointing-enabled model\n",
        "grid_search = GridSearchCV(\n",
        "    estimator=base_model,\n",
        "    param_grid=params,\n",
        "    scoring='accuracy',\n",
        "    cv=kf,\n",
        "    verbose=2\n",
        ")\n",
        "\n",
        "# Fit the model\n",
        "grid_search.fit(X_train, y_train)\n",
        "\n",
        "print(\"Best parameters:\", grid_search.best_params_)\n",
        "print(\"Best cross-validation score: {:.2f}\".format(grid_search.best_score_))\n",
        "\n",
        "# Get the best model\n",
        "best_model = grid_search.best_estimator_\n",
        "\n",
        "# Make predictions on the test set\n",
        "y_pred = best_model.predict(X_test)\n",
        "\n",
        "# Calculate accuracy\n",
        "accuracy = accuracy_score(y_test, y_pred)\n",
        "print(\"Test set accuracy: %.2f%%\" % (accuracy * 100))\n",
        "\n",
        "# Optional: Save the final best model\n",
        "best_model.save_model(\"final_best_model.json\")"
      ]
    },
    {
      "cell_type": "code",
      "execution_count": null,
      "metadata": {
        "collapsed": true,
        "id": "FdffBkymmnu_"
      },
      "outputs": [],
      "source": [
        "from sklearn.metrics import roc_curve, auc, classification_report\n",
        "\n",
        "print(\"Best parameters:\", grid_search.best_params_)\n",
        "print(\"Best cross-validation score: {:.2f}\".format(grid_search.best_score_))\n",
        "\n",
        "accuracy = accuracy_score(y_test, y_pred)\n",
        "print(\"Test set accuracy: %.2f%%\" % (accuracy * 100))\n",
        "# report = classification_report(y_test, y_pred, target_names=label_encoder.classes_)\n",
        "# print(report)\n",
        "\n",
        "\n",
        "# --- Best Parameters ---\n",
        "# Best parameters: {'eta': 0.1, 'max_depth': 12, 'num_class': 20, 'objective': 'multi:softmax'}"
      ]
    },
    {
      "cell_type": "code",
      "execution_count": null,
      "metadata": {
        "collapsed": true,
        "id": "JujDVAX6oXGw"
      },
      "outputs": [],
      "source": [
        "# Retrain if needed on same random seed and best params\n",
        "\n",
        "from sklearn.model_selection import cross_val_score\n",
        "\n",
        "columns_to_scale = ['popularity', 'duration_ms', 'danceability', 'energy', 'loudness', 'speechiness', 'acousticness', 'instrumentalness', 'liveness', 'valence', 'tempo']\n",
        "\n",
        "scaler = StandardScaler()\n",
        "\n",
        "X_train = train_df.drop('track_genre', axis=1)\n",
        "X_test = test_df.drop('track_genre', axis=1)\n",
        "\n",
        "X_train_scaled = X_train.copy()\n",
        "X_train_scaled[columns_to_scale] = scaler.fit_transform(X_train[columns_to_scale])\n",
        "\n",
        "\n",
        "X_test_scaled = X_test.copy()\n",
        "X_test_scaled[columns_to_scale] = scaler.transform(X_test[columns_to_scale])\n",
        "\n",
        "y_train = train_df['track_genre']\n",
        "y_test = test_df['track_genre']\n",
        "\n",
        "best_params = {\n",
        "    'max_depth': 12,\n",
        "    'eta': 0.1,\n",
        "    'objective': 'multi:softmax',\n",
        "    'num_class': len(y_train.unique())\n",
        "}\n",
        "\n",
        "model = xgb.XGBClassifier(**best_params)\n",
        "\n",
        "model.fit(X_train_scaled, y_train)\n",
        "y_pred = model.predict(X_test_scaled)\n",
        "accuracy = accuracy_score(y_test, y_pred)\n",
        "print(\"Test set accuracy: %.2f%%\" % (accuracy* 100))\n"
      ]
    },
    {
      "cell_type": "markdown",
      "metadata": {
        "id": "fwOi3Tuqn87Q"
      },
      "source": [
        "### Save Model"
      ]
    },
    {
      "cell_type": "code",
      "execution_count": null,
      "metadata": {
        "id": "kQTTid1cqo8K"
      },
      "outputs": [],
      "source": [
        "import joblib\n",
        "# Save the best model\n",
        "joblib.dump(model, \"xgboost_model.joblib\")\n",
        "\n",
        "# Save the order of columns of the X_train data\n",
        "joblib.dump(X_train_scaled.columns, \"feature_set.joblib\")\n",
        "\n",
        "# Save the scaler\n",
        "joblib.dump(scaler, \"scaler.joblib\")\n",
        "\n",
        "# Save the label encoder\n",
        "joblib.dump(label_encoder, \"label_encoder.joblib\")\n",
        "\n",
        "# Download the saved files\n",
        "files.download(\"xgboost_model.joblib\")\n",
        "files.download(\"feature_set.joblib\")\n",
        "files.download(\"scaler.joblib\")\n",
        "files.download(\"label_encoder.joblib\")"
      ]
    },
    {
      "cell_type": "markdown",
      "metadata": {
        "id": "QU_VbMmfn-AE"
      },
      "source": [
        "### Visualize Confusion Matrix"
      ]
    },
    {
      "cell_type": "code",
      "execution_count": null,
      "metadata": {
        "id": "tucew-A1f-R3"
      },
      "outputs": [],
      "source": [
        "import seaborn as sns\n",
        "from sklearn.metrics import confusion_matrix\n",
        "\n",
        "\n",
        "conf_mat = confusion_matrix(y_test, y_pred)\n",
        "\n",
        "labels = label_encoder.inverse_transform(range(len(label_encoder.classes_)))\n",
        "\n",
        "\n",
        "# Plot confusion matrix\n",
        "plt.figure(figsize=(12, 8))\n",
        "sns.heatmap(conf_mat, annot=True, fmt=\"d\", xticklabels=labels, yticklabels=labels)\n",
        "plt.title(\"Confusion Matrix\")\n",
        "plt.ylabel(\"Actual\")\n",
        "plt.xlabel(\"Predicted\")\n",
        "\n",
        "# Compute normalized confusion matrix\n",
        "normalized_conf_mat = conf_mat / conf_mat.sum(axis=1, keepdims=True)\n",
        "\n",
        "# Plot normalized confusion matrix\n",
        "plt.figure(figsize=(12, 8))\n",
        "sns.heatmap(normalized_conf_mat, annot=True, fmt=\".2f\", xticklabels=labels, yticklabels=labels)\n",
        "plt.title(\"Normalized Confusion Matrix\")\n",
        "plt.ylabel(\"Actual\")\n",
        "plt.xlabel(\"Predicted\")\n",
        "\n",
        "plt.show()"
      ]
    }
  ],
  "metadata": {
    "colab": {
      "authorship_tag": "ABX9TyOIpf5SLzy0++iJ7j9VH9bg",
      "include_colab_link": true,
      "provenance": []
    },
    "kernelspec": {
      "display_name": "Python 3",
      "name": "python3"
    },
    "language_info": {
      "name": "python"
    }
  },
  "nbformat": 4,
  "nbformat_minor": 0
}
